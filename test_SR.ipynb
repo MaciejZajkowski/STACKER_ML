{
 "cells": [
  {
   "cell_type": "code",
   "execution_count": 2,
   "metadata": {},
   "outputs": [],
   "source": [
    "import numpy as np\n",
    "import pandas as pd\n",
    "import re\n",
    "import math\n",
    "from sklearn.preprocessing import LabelEncoder\n",
    "from sklearn.model_selection import train_test_split\n",
    "import sklearn as skl    "
   ]
  },
  {
   "cell_type": "code",
   "execution_count": 3,
   "metadata": {},
   "outputs": [],
   "source": [
    "def My_preprocesing(url):\n",
    "    dataset_df = pd.read_csv(url)\n",
    "    # Wyrzucanie niepotrzbnych rzeczy \n",
    "    dataset_df = dataset_df.drop([\"zipcode\",\"thumbnail_url\",\"id\",\"neighbourhood\",\"description\",\"name\",\"host_response_rate\"],axis = 1)\n",
    "    \n",
    "    change_names = dataset_df.property_type.value_counts().index.tolist()[5:]\n",
    "    for index,data in dataset_df.iterrows():\n",
    "        if data[1] in change_names:\n",
    "            dataset_df.property_type[index] = 'Other'\n",
    "    \n",
    "    #one hot encoding\n",
    "    ammenities_set = set()\n",
    "    for index,data in dataset_df.iterrows():\n",
    "        temp = data[3].replace('{', ',')\n",
    "        temp1 =temp.replace('}', ',')\n",
    "        temp2 =  re.findall('(?<=,)[^,]+(?=,)', temp1)\n",
    "        for i in temp2:\n",
    "            ammenities_set.add(i)\n",
    "    z = np.zeros((dataset_df.shape[0],len(ammenities_set)))\n",
    "    ammenities_df = pd.DataFrame(z,columns=ammenities_set)\n",
    "    arr =ammenities_df.values\n",
    "    ammenities_list = list(ammenities_set)\n",
    "    for index,data in dataset_df.iterrows():\n",
    "        temp = data[3].replace('{', ',')\n",
    "        temp =temp.replace('}', ',')\n",
    "        temp =  re.findall('(?<=,)[^,]+(?=,)', temp)\n",
    "        for fraze in temp:\n",
    "            arr[index,ammenities_list.index(fraze)] = 1\n",
    "    ammenities_df = pd.DataFrame(arr,columns=ammenities_set)\n",
    "    suma = []\n",
    "    for i in ammenities_list:\n",
    "        suma.append(ammenities_df[i].sum())\n",
    "    get_rid = []\n",
    "    for i in range(len(suma)):\n",
    "        if suma[i] < 10000: # patrząc po wykresie sumy wydawało się to dobrym pomysłem\n",
    "            get_rid.append(ammenities_list[i])\n",
    "    ammenities_df=  ammenities_df.drop(get_rid,axis=1)\n",
    "    \n",
    "    \n",
    "    def encoding(lablename,data):\n",
    "        le = LabelEncoder()\n",
    "        le.fit( data[lablename])\n",
    "        data[lablename]= le.transform(data[lablename].values)\n",
    "        return data\n",
    "    \n",
    "    arr = dataset_df.bed_type.values\n",
    "    arr[arr != 'Real Bed'] = 'Other'\n",
    "    dataset_df.bed_type = arr\n",
    "    col_enc = [\"room_type\",\"city\",\"bed_type\",\"host_has_profile_pic\", \"host_identity_verified\",\"instant_bookable\",\"cancellation_policy\",\"cleaning_fee\",\"property_type\"]\n",
    "    for i in col_enc:\n",
    "        dataset_df = encoding(i,dataset_df)\n",
    "    dataset_df= dataset_df.drop([\"amenities\"],axis=1)\n",
    "    \n",
    "    \n",
    "        \n",
    "    def time_coding(columns,dataset_df):\n",
    "        for i in columns:\n",
    "            dataset_df[i] = dataset_df[i].astype('datetime64[ns]')\n",
    "            min = dataset_df[i].min()\n",
    "            temp = []\n",
    "            for idx in range(dataset_df.shape[0]):\n",
    "                if math.isnan((dataset_df[i][idx] - min).days):\n",
    "                    temp.append(0)\n",
    "                else:\n",
    "                    temp.append(int((dataset_df[i][idx] - min).days))\n",
    "            dataset_df[i] = pd.DataFrame(temp)\n",
    "            \n",
    "            \n",
    "        return dataset_df\n",
    "    \n",
    "    dataset_df =time_coding([\"host_since\",\"last_review\",\"first_review\"],dataset_df)\n",
    "    \n",
    "    for i in [\"host_since\",\"last_review\",\"first_review\"]:\n",
    "        n = i\n",
    "        scaler = skl.preprocessing.StandardScaler()\n",
    "        scaler.fit(dataset_df[n].values.reshape(-1,1))\n",
    "        dataset_df[n] = scaler.transform(dataset_df[n].values.reshape(-1,1)) \n",
    "        \n",
    "    return pd.concat([dataset_df, ammenities_df], axis=1, join='inner').dropna()\n",
    "    "
   ]
  },
  {
   "cell_type": "code",
   "execution_count": 4,
   "metadata": {},
   "outputs": [
    {
     "name": "stderr",
     "output_type": "stream",
     "text": [
      "C:\\Users\\macie\\AppData\\Local\\Temp/ipykernel_2944/92403983.py:9: SettingWithCopyWarning: \n",
      "A value is trying to be set on a copy of a slice from a DataFrame\n",
      "\n",
      "See the caveats in the documentation: https://pandas.pydata.org/pandas-docs/stable/user_guide/indexing.html#returning-a-view-versus-a-copy\n",
      "  dataset_df.property_type[index] = 'Other'\n"
     ]
    }
   ],
   "source": [
    "data = My_preprocesing(\"train.csv\")"
   ]
  },
  {
   "cell_type": "code",
   "execution_count": 5,
   "metadata": {},
   "outputs": [],
   "source": [
    "Y,X = data['log_price'].values,data.drop(['log_price'],axis=1).values\n",
    "X_train, X_test, Y_train, Y_test = train_test_split(X,Y, test_size=0.33, random_state=42)"
   ]
  },
  {
   "cell_type": "code",
   "execution_count": 6,
   "metadata": {},
   "outputs": [],
   "source": [
    "from sklearn.ensemble import RandomForestRegressor\n",
    "from sklearn.ensemble import RandomForestClassifier\n"
   ]
  },
  {
   "cell_type": "code",
   "execution_count": 7,
   "metadata": {},
   "outputs": [],
   "source": [
    "Ridge1 = skl.linear_model.Ridge()\n",
    "Ridge2 = skl.linear_model.Ridge()\n",
    "RFR = RandomForestRegressor(n_estimators = 150, random_state = 0)\n",
    "clf = RandomForestClassifier()"
   ]
  },
  {
   "cell_type": "code",
   "execution_count": 15,
   "metadata": {},
   "outputs": [],
   "source": [
    "from S_regresor import Stacker_Regresion"
   ]
  },
  {
   "cell_type": "code",
   "execution_count": 16,
   "metadata": {},
   "outputs": [],
   "source": [
    "my_stacker = Stacker_Regresion([Ridge1,Ridge2],Classifier=clf)"
   ]
  },
  {
   "cell_type": "code",
   "execution_count": 17,
   "metadata": {},
   "outputs": [
    {
     "name": "stdout",
     "output_type": "stream",
     "text": [
      "training model, name: Ridge()\n"
     ]
    },
    {
     "name": "stderr",
     "output_type": "stream",
     "text": [
      "d:\\Nauka\\Polibuda\\V Semestr\\ML\\Kontaminacja\\S_regresor.py:61: DataConversionWarning: A column-vector y was passed when a 1d array was expected. Please change the shape of y to (n_samples,), for example using ravel().\n",
      "  hist.append( Stacker_Regresion.Classfier.fit(X_train2,classes))\n"
     ]
    },
    {
     "data": {
      "text/plain": [
       "[Ridge(), Ridge(), RandomForestClassifier()]"
      ]
     },
     "execution_count": 17,
     "metadata": {},
     "output_type": "execute_result"
    }
   ],
   "source": [
    "my_stacker.fit(X=X_train,Y=Y_train)"
   ]
  },
  {
   "cell_type": "code",
   "execution_count": 18,
   "metadata": {},
   "outputs": [
    {
     "data": {
      "text/plain": [
       "array([], dtype=float64)"
      ]
     },
     "execution_count": 18,
     "metadata": {},
     "output_type": "execute_result"
    }
   ],
   "source": [
    "my_stacker.predict(X_test)[0]"
   ]
  }
 ],
 "metadata": {
  "interpreter": {
   "hash": "aad7386399a7c27607516c50e72e17040ab97cac8def3ed7dd10a0a9a87ff1df"
  },
  "kernelspec": {
   "display_name": "Python 3.9.7 64-bit",
   "language": "python",
   "name": "python3"
  },
  "language_info": {
   "codemirror_mode": {
    "name": "ipython",
    "version": 3
   },
   "file_extension": ".py",
   "mimetype": "text/x-python",
   "name": "python",
   "nbconvert_exporter": "python",
   "pygments_lexer": "ipython3",
   "version": "3.9.7"
  },
  "orig_nbformat": 4
 },
 "nbformat": 4,
 "nbformat_minor": 2
}
